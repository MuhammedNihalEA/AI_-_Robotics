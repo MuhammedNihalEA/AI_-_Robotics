{
 "cells": [
  {
   "cell_type": "code",
   "execution_count": 1,
   "id": "e86d6b64-5f6c-40bf-97dd-8a263c31d8b7",
   "metadata": {},
   "outputs": [
    {
     "name": "stdout",
     "output_type": "stream",
     "text": [
      "Requirement already satisfied: opencv-python in c:\\users\\ncas-lab\\appdata\\local\\programs\\python\\python310\\lib\\site-packages (4.9.0.80)\n",
      "Requirement already satisfied: numpy>=1.19.3 in c:\\users\\ncas-lab\\appdata\\local\\programs\\python\\python310\\lib\\site-packages (from opencv-python) (1.26.4)\n"
     ]
    },
    {
     "name": "stderr",
     "output_type": "stream",
     "text": [
      "\n",
      "[notice] A new release of pip is available: 23.0.1 -> 24.0\n",
      "[notice] To update, run: python.exe -m pip install --upgrade pip\n"
     ]
    },
    {
     "name": "stdout",
     "output_type": "stream",
     "text": [
      "Requirement already satisfied: mediapipe in c:\\users\\ncas-lab\\appdata\\local\\programs\\python\\python310\\lib\\site-packages (0.10.9)\n",
      "Requirement already satisfied: protobuf<4,>=3.11 in c:\\users\\ncas-lab\\appdata\\local\\programs\\python\\python310\\lib\\site-packages (from mediapipe) (3.20.3)\n",
      "Requirement already satisfied: sounddevice>=0.4.4 in c:\\users\\ncas-lab\\appdata\\local\\programs\\python\\python310\\lib\\site-packages (from mediapipe) (0.4.6)\n",
      "Requirement already satisfied: absl-py in c:\\users\\ncas-lab\\appdata\\local\\programs\\python\\python310\\lib\\site-packages (from mediapipe) (2.1.0)\n",
      "Requirement already satisfied: flatbuffers>=2.0 in c:\\users\\ncas-lab\\appdata\\local\\programs\\python\\python310\\lib\\site-packages (from mediapipe) (23.5.26)\n",
      "Requirement already satisfied: matplotlib in c:\\users\\ncas-lab\\appdata\\local\\programs\\python\\python310\\lib\\site-packages (from mediapipe) (3.8.2)\n",
      "Requirement already satisfied: attrs>=19.1.0 in c:\\users\\ncas-lab\\appdata\\local\\programs\\python\\python310\\lib\\site-packages (from mediapipe) (23.2.0)\n",
      "Requirement already satisfied: numpy in c:\\users\\ncas-lab\\appdata\\local\\programs\\python\\python310\\lib\\site-packages (from mediapipe) (1.26.4)\n",
      "Requirement already satisfied: opencv-contrib-python in c:\\users\\ncas-lab\\appdata\\local\\programs\\python\\python310\\lib\\site-packages (from mediapipe) (4.9.0.80)\n",
      "Requirement already satisfied: CFFI>=1.0 in c:\\users\\ncas-lab\\appdata\\local\\programs\\python\\python310\\lib\\site-packages (from sounddevice>=0.4.4->mediapipe) (1.16.0)\n",
      "Requirement already satisfied: python-dateutil>=2.7 in c:\\users\\ncas-lab\\appdata\\local\\programs\\python\\python310\\lib\\site-packages (from matplotlib->mediapipe) (2.8.2)\n",
      "Requirement already satisfied: contourpy>=1.0.1 in c:\\users\\ncas-lab\\appdata\\local\\programs\\python\\python310\\lib\\site-packages (from matplotlib->mediapipe) (1.2.0)\n",
      "Requirement already satisfied: fonttools>=4.22.0 in c:\\users\\ncas-lab\\appdata\\local\\programs\\python\\python310\\lib\\site-packages (from matplotlib->mediapipe) (4.48.1)\n",
      "Requirement already satisfied: packaging>=20.0 in c:\\users\\ncas-lab\\appdata\\local\\programs\\python\\python310\\lib\\site-packages (from matplotlib->mediapipe) (23.2)\n",
      "Requirement already satisfied: cycler>=0.10 in c:\\users\\ncas-lab\\appdata\\local\\programs\\python\\python310\\lib\\site-packages (from matplotlib->mediapipe) (0.12.1)\n",
      "Requirement already satisfied: kiwisolver>=1.3.1 in c:\\users\\ncas-lab\\appdata\\local\\programs\\python\\python310\\lib\\site-packages (from matplotlib->mediapipe) (1.4.5)\n",
      "Requirement already satisfied: pillow>=8 in c:\\users\\ncas-lab\\appdata\\local\\programs\\python\\python310\\lib\\site-packages (from matplotlib->mediapipe) (10.2.0)\n",
      "Requirement already satisfied: pyparsing>=2.3.1 in c:\\users\\ncas-lab\\appdata\\local\\programs\\python\\python310\\lib\\site-packages (from matplotlib->mediapipe) (3.1.1)\n",
      "Requirement already satisfied: pycparser in c:\\users\\ncas-lab\\appdata\\local\\programs\\python\\python310\\lib\\site-packages (from CFFI>=1.0->sounddevice>=0.4.4->mediapipe) (2.21)\n",
      "Requirement already satisfied: six>=1.5 in c:\\users\\ncas-lab\\appdata\\local\\programs\\python\\python310\\lib\\site-packages (from python-dateutil>=2.7->matplotlib->mediapipe) (1.16.0)\n"
     ]
    },
    {
     "name": "stderr",
     "output_type": "stream",
     "text": [
      "\n",
      "[notice] A new release of pip is available: 23.0.1 -> 24.0\n",
      "[notice] To update, run: python.exe -m pip install --upgrade pip\n"
     ]
    }
   ],
   "source": [
    "!pip install opencv-python\n",
    "!pip install mediapipe"
   ]
  },
  {
   "cell_type": "code",
   "execution_count": 2,
   "id": "ad73ab87-b4cd-4525-b040-690b6b14b898",
   "metadata": {},
   "outputs": [],
   "source": [
    "import cv2\n",
    "import mediapipe as mp"
   ]
  },
  {
   "cell_type": "code",
   "execution_count": 3,
   "id": "7d1ddf81-dd2f-4dd3-959d-168e474ab593",
   "metadata": {},
   "outputs": [],
   "source": [
    "# Used to convert protobuf message to a dictionary.\n",
    "from google.protobuf.json_format import MessageToDict"
   ]
  },
  {
   "cell_type": "code",
   "execution_count": 4,
   "id": "c5643fdb-c1d4-49a2-8b4f-fba33564cf11",
   "metadata": {},
   "outputs": [],
   "source": [
    "# building the model\n",
    "mpHands = mp.solutions.hands\n",
    "hands = mpHands.Hands(\n",
    "    static_image_mode=False,\n",
    "    min_detection_confidence=0.75,\n",
    "    min_tracking_confidence=0.75,\n",
    "    max_num_hands=2)"
   ]
  },
  {
   "cell_type": "code",
   "execution_count": 6,
   "id": "f4b17595-f652-4898-b22e-14b988fca3fe",
   "metadata": {},
   "outputs": [],
   "source": [
    "# reading from webcam\n",
    "webcam = cv2.VideoCapture(0)\n",
    "\n",
    "while True:\n",
    "    success, img = webcam.read()\n",
    "\n",
    "    # flipping the image for model\n",
    "    original_img=img.copy() # copying the original image\n",
    "    img = cv2.flip(img, 1)\n",
    "\n",
    "    # converting to RGB for model (model needs RGB img)\n",
    "    RGB_img = cv2.cvtColor(img, cv2.COLOR_BGR2RGB)\n",
    "\n",
    "    # passing the image to the model\n",
    "    results = hands.process(RGB_img)\n",
    "\n",
    "    # if there is any result (if any hand is detected)\n",
    "    if results.multi_hand_landmarks:\n",
    "\n",
    "        if len(results.multi_handedness) == 2: # if two hands exist in the image\n",
    "            cv2.putText(original_img, 'Both Hands', (250, 56), cv2.FONT_HERSHEY_COMPLEX, 0.8, (0, 255, 0), 2)\n",
    "\n",
    "        else: # if only one hand exists in the image\n",
    "            for i in results.multi_handedness:\n",
    "                label = MessageToDict(i)['classification'][0]['label']\n",
    "\n",
    "                if label == 'Left':\n",
    "                    cv2.putText(original_img, f'{label} Hand', (20, 56), cv2.FONT_HERSHEY_COMPLEX, 0.8, (0, 255, 0), 2)\n",
    "\n",
    "                if label == 'Right':\n",
    "                    cv2.putText(original_img, f'{label} Hand', (460, 56), cv2.FONT_HERSHEY_COMPLEX, 0.8, (0, 255, 0), 2)\n",
    "\n",
    "    cv2.imshow('image', original_img)\n",
    "    if cv2.waitKey(1) & 0xff == ord('q'):\n",
    "        break\n",
    "\n",
    "webcam.release()\n",
    "cv2.destroyAllWindows()"
   ]
  },
  {
   "cell_type": "code",
   "execution_count": null,
   "id": "cadf8b9f-059e-4b21-b250-0c043088f4ab",
   "metadata": {},
   "outputs": [],
   "source": []
  },
  {
   "cell_type": "code",
   "execution_count": null,
   "id": "b9648822-227d-4024-bfe4-7a5a56186cc0",
   "metadata": {},
   "outputs": [],
   "source": []
  }
 ],
 "metadata": {
  "kernelspec": {
   "display_name": "Python 3 (ipykernel)",
   "language": "python",
   "name": "python3"
  },
  "language_info": {
   "codemirror_mode": {
    "name": "ipython",
    "version": 3
   },
   "file_extension": ".py",
   "mimetype": "text/x-python",
   "name": "python",
   "nbconvert_exporter": "python",
   "pygments_lexer": "ipython3",
   "version": "3.10.11"
  }
 },
 "nbformat": 4,
 "nbformat_minor": 5
}
